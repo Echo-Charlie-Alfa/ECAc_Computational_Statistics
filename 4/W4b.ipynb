{
  "nbformat": 4,
  "nbformat_minor": 0,
  "metadata": {
    "colab": {
      "provenance": []
    },
    "kernelspec": {
      "name": "python3",
      "display_name": "Python 3"
    },
    "language_info": {
      "name": "python"
    }
  },
  "cells": [
    {
      "cell_type": "markdown",
      "source": [
        "[![Open in Colab](https://colab.research.google.com/assets/colab-badge.svg)](https://colab.research.google.com/github/y-akbal/Tedu_Computational_Statistics/blob/main/4/W4b.ipynb)\n"
      ],
      "metadata": {
        "id": "oWKCUkkyAcMc"
      }
    },
    {
      "cell_type": "code",
      "execution_count": null,
      "metadata": {
        "id": "AuCRfTdkXA4p"
      },
      "outputs": [],
      "source": [
        "import matplotlib.pyplot as plt\n",
        "import numpy as np\n",
        "import scipy\n",
        "from scipy import stats\n",
        "import pickle"
      ]
    },
    {
      "cell_type": "markdown",
      "source": [
        "# Monte Carlo Integration\n",
        "#1) Given a continuous function $f:[0,1|\\to \\mathbb{R}$, implement a little snippet, giving $\\int_0^1 f(x) dx$ approximately."
      ],
      "metadata": {
        "id": "ljerEJDKYzPO"
      }
    },
    {
      "cell_type": "code",
      "source": [
        "def integral(f:function, lower:float = 0, higher:float = 1, sample_size:int = 1000)->float:\n",
        "  assert lower < higher\n",
        "  ## Your code here\n",
        "  return None"
      ],
      "metadata": {
        "id": "P15D_XQMZBMi"
      },
      "execution_count": null,
      "outputs": []
    },
    {
      "cell_type": "markdown",
      "source": [
        "#2) How about $\\int_{0}^{\\infty} e^{-x} dx$?"
      ],
      "metadata": {
        "id": "jQN5mPxtZjU6"
      }
    },
    {
      "cell_type": "code",
      "source": [
        "#Your code here"
      ],
      "metadata": {
        "id": "Z-XPKpTXY4ti"
      },
      "execution_count": null,
      "outputs": []
    },
    {
      "cell_type": "markdown",
      "source": [
        "## 3) 95% confidence Interval for $\\int_0^1 \\frac{1}{1+x^2} dx$."
      ],
      "metadata": {
        "id": "YG0ik0LmZr7D"
      }
    },
    {
      "cell_type": "code",
      "source": [],
      "metadata": {
        "id": "GzheqP6dXXAJ"
      },
      "execution_count": null,
      "outputs": []
    }
  ]
}