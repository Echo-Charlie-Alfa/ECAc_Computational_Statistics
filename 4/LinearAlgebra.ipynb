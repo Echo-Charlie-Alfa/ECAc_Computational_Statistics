{
  "nbformat": 4,
  "nbformat_minor": 0,
  "metadata": {
    "colab": {
      "provenance": []
    },
    "kernelspec": {
      "name": "python3",
      "display_name": "Python 3"
    },
    "language_info": {
      "name": "python"
    }
  },
  "cells": [
    {
      "cell_type": "markdown",
      "source": [
        "[![Open in Colab](https://colab.research.google.com/assets/colab-badge.svg)](https://colab.research.google.com/github/y-akbal/Tedu_Computational_Statistics/blob/main/4/LinearAlgebra.ipynb)\n"
      ],
      "metadata": {
        "id": "RQ-1k47eKz67"
      }
    },
    {
      "cell_type": "markdown",
      "source": [
        "# Some Linear Algebra with Numpy"
      ],
      "metadata": {
        "id": "CBx4ft-rKqBn"
      }
    },
    {
      "cell_type": "code",
      "execution_count": null,
      "metadata": {
        "id": "HvioThR1Knru"
      },
      "outputs": [],
      "source": [
        "import numpy as np"
      ]
    },
    {
      "cell_type": "markdown",
      "source": [
        "# We will use np.linalg module"
      ],
      "metadata": {
        "id": "8uNFKLNIdD3P"
      }
    },
    {
      "cell_type": "code",
      "source": [],
      "metadata": {
        "id": "ktBAz-KAdGwB"
      },
      "execution_count": null,
      "outputs": []
    },
    {
      "cell_type": "markdown",
      "source": [
        "## Cholesky Decomposition:\n",
        "Assume that your are given: A positive definite Hermitian matrix $A$.\n",
        "The Cholesky decomposition of a Hermitian positive-definite matrix A is a decomposition of the form $A = L\\times L^T$, where $L$ is a lower triangular matrix with real and positive diagonal entries."
      ],
      "metadata": {
        "id": "6pV0Eu9hUjEF"
      }
    },
    {
      "cell_type": "code",
      "source": [],
      "metadata": {
        "id": "9zASR0NyWJZa"
      },
      "execution_count": null,
      "outputs": []
    },
    {
      "cell_type": "markdown",
      "source": [
        "# Singular Value Decomposition:\n",
        "\n",
        "The Singular Value Decomposition (SVD) of a matrix is a factorization of that matrix into three matrices. It has some interesting algebraic properties and conveys important geometrical and theoretical insights about linear transformations. It also has some important applications in data science. In this article, I will try to explain the mathematical intuition behind SVD and its geometrical meaning. \n",
        "Mathematics behind SVD\n",
        "\n",
        "The SVD of  mxn matrix A is given by the formula :\n",
        "\n",
        "$A = UWV^T$\n",
        "\n",
        "where \n",
        "\n",
        "\n",
        "*   $U$:  $mxn$ matrix of the orthonormal eigenvectors of $A \\times A^T$,\n",
        "*    $V^T$: transpose of a $nxn$ matrix containing the orthonormal eigenvectors of $A^T \\times A$.\n",
        "*   $W$:  a $nxn$ diagonal matrix of the singular values which are the square roots of the eigenvalues of $A^T \\times A$. "
      ],
      "metadata": {
        "id": "pCGXwnfRVQFt"
      }
    },
    {
      "cell_type": "code",
      "source": [],
      "metadata": {
        "id": "eOgbInInVOGg"
      },
      "execution_count": null,
      "outputs": []
    }
  ]
}