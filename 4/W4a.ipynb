{
  "nbformat": 4,
  "nbformat_minor": 0,
  "metadata": {
    "colab": {
      "provenance": []
    },
    "kernelspec": {
      "name": "python3",
      "display_name": "Python 3"
    },
    "language_info": {
      "name": "python"
    }
  },
  "cells": [
    {
      "cell_type": "markdown",
      "source": [
        "[![Open in Colab](https://colab.research.google.com/assets/colab-badge.svg)](https://colab.research.google.com/github/y-akbal/Tedu_Computational_Statistics/blob/main/4/W4a.ipynb)\n"
      ],
      "metadata": {
        "id": "fb3AtndSJ5vF"
      }
    },
    {
      "cell_type": "code",
      "source": [
        "import matplotlib.pyplot as plt\n",
        "import numpy as np\n",
        "import scipy\n",
        "from scipy import stats\n",
        "import pickle"
      ],
      "metadata": {
        "id": "mEApmbTYKNBh"
      },
      "execution_count": null,
      "outputs": []
    },
    {
      "cell_type": "markdown",
      "source": [],
      "metadata": {
        "id": "xM6hn01KKMT-"
      }
    },
    {
      "cell_type": "markdown",
      "source": [
        "#We first generate some $\\chi^2$ random variates."
      ],
      "metadata": {
        "id": "SrdFYkTNKPi0"
      }
    },
    {
      "cell_type": "markdown",
      "source": [
        "## $\\chi^2$ generation"
      ],
      "metadata": {
        "id": "MVfe3qRXKIJj"
      }
    },
    {
      "cell_type": "code",
      "source": [],
      "metadata": {
        "id": "aP7GrA52KLnH"
      },
      "execution_count": null,
      "outputs": []
    },
    {
      "cell_type": "markdown",
      "source": [
        "# Mixtures"
      ],
      "metadata": {
        "id": "u0lEWQ8zKd5f"
      }
    },
    {
      "cell_type": "code",
      "source": [],
      "metadata": {
        "id": "p7XWNs6yKdMO"
      },
      "execution_count": null,
      "outputs": []
    },
    {
      "cell_type": "markdown",
      "source": [
        "# Multidimensional Normal Distribution"
      ],
      "metadata": {
        "id": "UEEILBpDKf54"
      }
    },
    {
      "cell_type": "markdown",
      "source": [
        "## How to visualize 2D data ?"
      ],
      "metadata": {
        "id": "ifMiHi0FTthr"
      }
    },
    {
      "cell_type": "code",
      "source": [],
      "metadata": {
        "id": "X2BFyzMaKi6o"
      },
      "execution_count": null,
      "outputs": []
    },
    {
      "cell_type": "markdown",
      "source": [
        "# How to draw samples from $N_d(\\mu, \\Sigma)$?"
      ],
      "metadata": {
        "id": "JHP1qZm3lxri"
      }
    },
    {
      "cell_type": "code",
      "source": [],
      "metadata": {
        "id": "DkR__D_pl1-T"
      },
      "execution_count": null,
      "outputs": []
    }
  ]
}