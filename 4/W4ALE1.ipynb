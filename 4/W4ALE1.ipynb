{
  "nbformat": 4,
  "nbformat_minor": 0,
  "metadata": {
    "colab": {
      "provenance": []
    },
    "kernelspec": {
      "name": "python3",
      "display_name": "Python 3"
    },
    "language_info": {
      "name": "python"
    }
  },
  "cells": [
    {
      "cell_type": "markdown",
      "source": [
        "[![Open in Colab](https://colab.research.google.com/assets/colab-badge.svg)](https://colab.research.google.com/github/y-akbal/Tedu_Computational_Statistics/blob/main/4/W4ALE1.ipynb)\n"
      ],
      "metadata": {
        "id": "oDziufKq45hE"
      }
    },
    {
      "cell_type": "code",
      "execution_count": null,
      "metadata": {
        "id": "0N7wzl9R4SgO"
      },
      "outputs": [],
      "source": [
        "import matplotlib.pyplot as plt\n",
        "import numpy as np\n",
        "import scipy\n",
        "from scipy import stats\n",
        "import pickle"
      ]
    },
    {
      "cell_type": "markdown",
      "source": [
        "## Standard Normal Random Variate Generation\n",
        "## In the lecture we stated the following fact:\n",
        "If $U, V \\sim U(0,1)$, and if\n",
        "$Z_1 = \\sqrt{-2 \\log U} \\cos(2\\pi V)$ and \n",
        "$Z_2 = \\sqrt{-2 \\log U} \\sin(2\\pi V)$,\n",
        "then \n",
        "$\n",
        "Z_1, Z_2 \\sim N(0,1) \\text{ independent. }\n",
        "$\n",
        "You will now implement this fact.\n",
        "# Below implement function, $Normal(n:int)-> tuple$ with an argument $n$, and returning a tuple of lists where the first list comes from $Z_1$ and the second from $Z_2$. \n",
        "For instance:\n",
        "$Normal(3) = ([1.2, 0.2, 2.3], [0.1, -2.1, 1.1])$."
      ],
      "metadata": {
        "id": "Z6DA98tE48DV"
      }
    },
    {
      "cell_type": "code",
      "source": [
        "def Normal(n:int)-> tuple:\n",
        "  # Your code here\n",
        "  return None"
      ],
      "metadata": {
        "id": "9EyaN1QQ7Tae"
      },
      "execution_count": null,
      "outputs": []
    },
    {
      "cell_type": "markdown",
      "source": [
        "# Some unit test (Graded Cell): \n",
        "Below we use two tests:\n",
        "\n",
        "1) [Shapiro test for normality](https://docs.scipy.org/doc/scipy/reference/generated/scipy.stats.shapiro.html#scipy.stats.shapiro),\n",
        "\n",
        "2) [Pearson correlation coefficient test for linear correlation](https://docs.scipy.org/doc/scipy/reference/generated/scipy.stats.pearsonr.html#scipy.stats.pearsonr),\n",
        "In the case you wonder how I design unit tests."
      ],
      "metadata": {
        "id": "esmSWoCn8pNw"
      }
    },
    {
      "cell_type": "code",
      "source": [
        "# Graded Cell A1, Do not change anything below:\n",
        "np.random.seed(1) ### fix seed to produce the same results always\n",
        "N = 1000\n",
        "assert isinstance(Normal(10), tuple), \"Make sure that your function returns a tuple!!!\"\n",
        "z1, z2 = Normal(N)\n",
        "assert len(z1) == N, f\"You gotta come up with exactly {N} samples while yours is {len(z1)}!!!!, Please give attention to shape of the outputs!!!!\"\n",
        "assert scipy.stats.shapiro(z1).pvalue > 0.10 and scipy.stats.shapiro(z2).pvalue > 0.10, \"Your numbers do not seem to normal check your implementation!!!\"\n",
        "assert scipy.stats.pearsonr(z1, z2).pvalue > 0.25, \"Your z1 and z2 seem to be pretty correlated, check your implementation!!!\"\n",
        "print(\"You doing great pal!!!! Jump to the next exercise!\")"
      ],
      "metadata": {
        "id": "e2FUL_yW7FsD"
      },
      "execution_count": null,
      "outputs": []
    },
    {
      "cell_type": "markdown",
      "source": [
        "## Graded Cell A2\n",
        "# Plot the histogram of your sample and sketch its QQ plot to see if your are doing good."
      ],
      "metadata": {
        "id": "gxGysRPpTm9T"
      }
    },
    {
      "cell_type": "code",
      "source": [],
      "metadata": {
        "id": "7cq9nGUp5dcd"
      },
      "execution_count": null,
      "outputs": []
    }
  ]
}