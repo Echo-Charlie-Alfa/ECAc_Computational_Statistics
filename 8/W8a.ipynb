{
 "cells": [
  {
   "cell_type": "code",
   "execution_count": 30,
   "id": "e0b13304",
   "metadata": {},
   "outputs": [],
   "source": [
    "import matplotlib.pyplot as plt\n",
    "import numpy as np\n",
    "import scipy\n",
    "from scipy import stats"
   ]
  },
  {
   "cell_type": "code",
   "execution_count": 31,
   "id": "8785dc36",
   "metadata": {},
   "outputs": [
    {
     "data": {
      "text/plain": [
       "(-1.959963984540054, 1.959963984540054)"
      ]
     },
     "execution_count": 31,
     "metadata": {},
     "output_type": "execute_result"
    }
   ],
   "source": [
    "stats.norm.interval(0.95, 0, 1)  ### remember confidence interval...."
   ]
  },
  {
   "cell_type": "markdown",
   "id": "1936ff93",
   "metadata": {},
   "source": [
    "# Confidence Interval Check"
   ]
  },
  {
   "cell_type": "code",
   "execution_count": 251,
   "id": "82421ba7",
   "metadata": {},
   "outputs": [],
   "source": [
    "def test(n_samples = 10000, conf = 0.95, sample_size = 10000):\n",
    "  L = 0\n",
    "  for _ in range(n_samples):\n",
    "    sample = np.random.randn(sample_size)\n",
    "    mean = sample.mean()\n",
    "    std = sample.std(ddof = 1)\n",
    "    INT = stats.norm.interval(conf, mean, std/sample_size**0.5)  ### we had a mistake last week here!!!!\n",
    "    if not (INT[0] < 0 and INT[1] > 0):\n",
    "      L += 1\n",
    "  return (n_samples - L)/n_samples"
   ]
  },
  {
   "cell_type": "code",
   "execution_count": 252,
   "id": "7a67deba",
   "metadata": {},
   "outputs": [
    {
     "data": {
      "text/plain": [
       "0.987"
      ]
     },
     "execution_count": 252,
     "metadata": {},
     "output_type": "execute_result"
    }
   ],
   "source": [
    "test(conf = 0.99, n_samples = 10000, sample_size = 100)"
   ]
  },
  {
   "cell_type": "markdown",
   "id": "b69218f4",
   "metadata": {},
   "source": [
    "# Estimating a Confidence Level\n",
    "Assume that you sample from a population with unknown mean. Someone comes in claims that the true population mean is 13.8, and this dude appears to be pretty confident in his claim. How do you confirm this?\n",
    "Assume that you are sampling from $\\chi^2(14)$ distribution.\n"
   ]
  },
  {
   "cell_type": "code",
   "execution_count": 253,
   "id": "e18754fd",
   "metadata": {},
   "outputs": [],
   "source": [
    "rv = stats.chi2(14)"
   ]
  },
  {
   "cell_type": "code",
   "execution_count": 262,
   "id": "41448db5",
   "metadata": {},
   "outputs": [],
   "source": [
    "def empirical_confidence_level(random_variable, claimed_mean = 13.8, n_sample = 10000, sample_size = 100):\n",
    "    L = 0\n",
    "    for i in range(n_sample):\n",
    "        sample = random_variable.rvs(sample_size)\n",
    "        mean = sample.mean()\n",
    "        std = sample.std(ddof = 1)\n",
    "        INT = stats.norm.interval(0.95, mean, std/sample_size**0.5)\n",
    "        if INT[0] < claimed_mean and claimed_mean < INT[1]:\n",
    "          L += 1   \n",
    "    return L/n_sample"
   ]
  },
  {
   "cell_type": "code",
   "execution_count": 263,
   "id": "071f97f2",
   "metadata": {},
   "outputs": [
    {
     "data": {
      "text/plain": [
       "0.9418"
      ]
     },
     "execution_count": 263,
     "metadata": {},
     "output_type": "execute_result"
    }
   ],
   "source": [
    "empirical_confidence_level(rv)"
   ]
  },
  {
   "cell_type": "code",
   "execution_count": null,
   "id": "54d83991",
   "metadata": {},
   "outputs": [],
   "source": []
  }
 ],
 "metadata": {
  "kernelspec": {
   "display_name": "Python 3 (ipykernel)",
   "language": "python",
   "name": "python3"
  },
  "language_info": {
   "codemirror_mode": {
    "name": "ipython",
    "version": 3
   },
   "file_extension": ".py",
   "mimetype": "text/x-python",
   "name": "python",
   "nbconvert_exporter": "python",
   "pygments_lexer": "ipython3",
   "version": "3.9.13"
  }
 },
 "nbformat": 4,
 "nbformat_minor": 5
}
