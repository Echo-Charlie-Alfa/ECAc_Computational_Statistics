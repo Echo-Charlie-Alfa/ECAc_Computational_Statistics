{
  "nbformat": 4,
  "nbformat_minor": 0,
  "metadata": {
    "colab": {
      "provenance": []
    },
    "kernelspec": {
      "name": "python3",
      "display_name": "Python 3"
    },
    "language_info": {
      "name": "python"
    }
  },
  "cells": [
    {
      "cell_type": "markdown",
      "source": [
        "[![Open in Colab](https://colab.research.google.com/assets/colab-badge.svg)](https://colab.research.google.com/github/y-akbal/Tedu_Computational_Statistics/blob/main/3/W3.ipynb)\n"
      ],
      "metadata": {
        "id": "ftgWrjm1F_sL"
      }
    },
    {
      "cell_type": "markdown",
      "source": [
        " ## Method of Generating Random Variables\n"
      ],
      "metadata": {
        "id": "FkY1P3ewuJgG"
      }
    },
    {
      "cell_type": "code",
      "execution_count": 26,
      "metadata": {
        "id": "z8Roa3IbrZOR"
      },
      "outputs": [],
      "source": [
        "import matplotlib.pyplot as plt\n",
        "import numpy as np\n",
        "import scipy\n",
        "from scipy import stats\n",
        "from statsmodels.graphics.gofplots import qqplot"
      ]
    },
    {
      "cell_type": "markdown",
      "source": [
        "# The Acceptance-Rejection Method (3.3)\n",
        "\n",
        "Suppose that $X$ and $Y$ are random variables with density or pmf $f$ and $g$,\n",
        "respectively, and there exists a constant c such that\n",
        "$ f (t) /g(t) ≤c $\n",
        "\n",
        "for all t such that $f (t) > 0$. Then the acceptance-rejection method (or rejection\n",
        "method) can be applied to generate the random variable X.\n",
        "\n",
        "\n",
        "\n",
        "1. Find a random variable Y with density g satisfying $f (t)/g(t) ≤ c$, for\n",
        "all t such that $f (t) > 0$. Provide a method to generate random Y.\n",
        "2. For each random variate required:\n",
        "\n",
        "(a) Generate a random $y$ from the distribution with density $g$.\n",
        "\n",
        "(b) Generate a random $u$ from the $Uniform(0, 1)$ distribution.\n",
        "\n",
        "(c) If $u < f (y)/(cg(y))$, accept $y$ and deliver $x = y$; otherwise reject $y$\n",
        "and repeat from Step 2a.\n"
      ],
      "metadata": {
        "id": "1_RENz9Lsu-H"
      }
    },
    {
      "cell_type": "markdown",
      "source": [
        "\n",
        "# Example 3.7 (Acceptance-rejection method):\n",
        "\n",
        "#Suppose we would like to draw samples from $\\beta(2,2)$ distribution.\n",
        "# Where $\\beta_{\\chi}(2,2) = 6x(1-x)$.\n"
      ],
      "metadata": {
        "id": "AmJ11_IHtFsO"
      }
    },
    {
      "cell_type": "code",
      "source": [
        "### cheap way to sample from U(0,1) is np.random.rand()\n",
        "def return_sample(n:int)->list:\n",
        "  sample_list = []\n",
        "  for i in range(n):\n",
        "    for j in range(n):\n",
        "      u = np.random.rand() ### sample for u\n",
        "      x = np.random.rand()  ### sample from g (in this case uniform distribution)\n",
        "      if u < x*(1-x):\n",
        "        sample_list.append(x)\n",
        "      else:\n",
        "        continue\n",
        "  return np.array(sample_list)  "
      ],
      "metadata": {
        "id": "rg3fPpAhkNh1"
      },
      "execution_count": 9,
      "outputs": []
    },
    {
      "cell_type": "code",
      "source": [
        "sample = return_sample(1000)  ### this guy should be from beta(2,2)"
      ],
      "metadata": {
        "id": "K3LB1ihil1Zo"
      },
      "execution_count": 14,
      "outputs": []
    },
    {
      "cell_type": "code",
      "source": [
        "len(sample)"
      ],
      "metadata": {
        "colab": {
          "base_uri": "https://localhost:8080/"
        },
        "id": "k6S7PvHrm028",
        "outputId": "cd247f90-bf94-436d-80f1-59165777d1c9"
      },
      "execution_count": 23,
      "outputs": [
        {
          "output_type": "execute_result",
          "data": {
            "text/plain": [
              "166236"
            ]
          },
          "metadata": {},
          "execution_count": 23
        }
      ]
    },
    {
      "cell_type": "code",
      "source": [
        "plt.hist(sample, bins = 100, density = True);"
      ],
      "metadata": {
        "colab": {
          "base_uri": "https://localhost:8080/",
          "height": 265
        },
        "id": "Fi6b06tCjpMk",
        "outputId": "70cf46ee-be0b-4195-c79f-59f2d16e130a"
      },
      "execution_count": 15,
      "outputs": [
        {
          "output_type": "display_data",
          "data": {
            "text/plain": [
              "<Figure size 432x288 with 1 Axes>"
            ],
            "image/png": "[encoded data removed]"
          },
          "metadata": {
            "needs_background": "light"
          }
        }
      ]
    },
    {
      "cell_type": "code",
      "source": [
        "beta_twotwo = stats.beta(2,2)"
      ],
      "metadata": {
        "id": "5rcXbr7xmdy_"
      },
      "execution_count": 17,
      "outputs": []
    },
    {
      "cell_type": "code",
      "source": [
        "real_sample = beta_twotwo.rvs(166236)"
      ],
      "metadata": {
        "id": "19Ldw7css4GH"
      },
      "execution_count": 24,
      "outputs": []
    },
    {
      "cell_type": "code",
      "source": [
        "plt.hist(real_sample, bins = 100, density = True);"
      ],
      "metadata": {
        "colab": {
          "base_uri": "https://localhost:8080/",
          "height": 269
        },
        "id": "PFH-ASgCmp0L",
        "outputId": "12c62208-cac9-4bc0-84da-677d8b87a030"
      },
      "execution_count": 25,
      "outputs": [
        {
          "output_type": "display_data",
          "data": {
            "text/plain": [
              "<Figure size 432x288 with 1 Axes>"
            ],
            "image/png": "[encoded data removed]"
          },
          "metadata": {
            "needs_background": "light"
          }
        }
      ]
    },
    {
      "cell_type": "code",
      "source": [
        "qqplot(sample, beta_twotwo);"
      ],
      "metadata": {
        "colab": {
          "base_uri": "https://localhost:8080/",
          "height": 279
        },
        "id": "rwbn9fSKm65A",
        "outputId": "1bb6c961-cecd-4843-8a07-c0c4e57d0e74"
      },
      "execution_count": 30,
      "outputs": [
        {
          "output_type": "display_data",
          "data": {
            "text/plain": [
              "<Figure size 432x288 with 1 Axes>"
            ],
            "image/png": "[encoded data removed]"
          },
          "metadata": {
            "needs_background": "light"
          }
        }
      ]
    },
    {
      "cell_type": "markdown",
      "source": [
        "# 3.4 Transformation Methods"
      ],
      "metadata": {
        "id": "y5TtNsMRtikd"
      }
    },
    {
      "cell_type": "code",
      "source": [
        "np.random.choice([\"2\",\"3\",\"4\"]) ### we will get t distribution outa standard normal and chi^2 distribution"
      ],
      "metadata": {
        "id": "goGrtcL-trG3",
        "colab": {
          "base_uri": "https://localhost:8080/",
          "height": 35
        },
        "outputId": "75e79fc3-d6cc-4f7b-b6ee-71ff21644ec6"
      },
      "execution_count": 32,
      "outputs": [
        {
          "output_type": "execute_result",
          "data": {
            "text/plain": [
              "'3'"
            ],
            "application/vnd.google.colaboratory.intrinsic+json": {
              "type": "string"
            }
          },
          "metadata": {},
          "execution_count": 32
        }
      ]
    },
    {
      "cell_type": "markdown",
      "source": [
        "#The formula\n",
        "## $T = \\frac{Z}{\\sqrt{V/m}}$ where $Z \\in N(0,1)$ and $V \\in \\chi^2(m)$.\n",
        "## Presumably we will have $T \\sim t(m)$ t-distribution with m degrees of freedom."
      ],
      "metadata": {
        "id": "Xa9RtUkquGa2"
      }
    },
    {
      "cell_type": "code",
      "source": [
        "def sample_m(n:int, m:int = 100) -> list:\n",
        "  s_n = lambda : np.random.randn()\n",
        "  x_n = lambda : np.random.chisquare(m)\n",
        "  return np.array([s_n()/(x_n()/m)**0.5 for i in range(n) for j in range(n)])"
      ],
      "metadata": {
        "id": "RqEcMw4_uCu5"
      },
      "execution_count": 38,
      "outputs": []
    },
    {
      "cell_type": "code",
      "source": [
        "f = lambda  : 2"
      ],
      "metadata": {
        "id": "63ZECL9uwcev"
      },
      "execution_count": 54,
      "outputs": []
    },
    {
      "cell_type": "code",
      "source": [
        "[i**2 for i in range(10)]  ### this is the same as below\n",
        "L = []\n",
        "for i in range(10):\n",
        "  L.append(i)\n"
      ],
      "metadata": {
        "id": "J_ctw-EVwkcd",
        "outputId": "f36eeb77-8f8b-4937-b5c3-9a77171a5da4",
        "colab": {
          "base_uri": "https://localhost:8080/"
        }
      },
      "execution_count": 59,
      "outputs": [
        {
          "output_type": "execute_result",
          "data": {
            "text/plain": [
              "[0, 1, 4, 9, 16, 25, 36, 49, 64, 81]"
            ]
          },
          "metadata": {},
          "execution_count": 59
        }
      ]
    },
    {
      "cell_type": "code",
      "source": [
        "plt.hist(sample_m(100, m = 5), bins = 100);\n",
        "plt.hist(np.random.standard_t(df = 5, size = 100000), bins = 100);\n",
        "### these dudes are the same, at least as much as we can see!!!!!"
      ],
      "metadata": {
        "id": "tjF10QhBvQAD",
        "outputId": "bbc512ba-1c8e-4c3c-cbac-202d56209ed8",
        "colab": {
          "base_uri": "https://localhost:8080/",
          "height": 265
        }
      },
      "execution_count": 47,
      "outputs": [
        {
          "output_type": "display_data",
          "data": {
            "text/plain": [
              "<Figure size 432x288 with 1 Axes>"
            ],
            "image/png": "[encoded data removed]"
          },
          "metadata": {
            "needs_background": "light"
          }
        }
      ]
    },
    {
      "cell_type": "markdown",
      "source": [],
      "metadata": {
        "id": "b161ZxI_tlOJ"
      }
    }
  ]
}